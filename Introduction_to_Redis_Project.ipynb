{
  "nbformat": 4,
  "nbformat_minor": 0,
  "metadata": {
    "colab": {
      "name": "Introduction to Redis Project",
      "provenance": [],
      "authorship_tag": "ABX9TyNPbvBQntaUlfLn6HYa/PIk",
      "include_colab_link": true
    },
    "kernelspec": {
      "name": "python3",
      "display_name": "Python 3"
    },
    "language_info": {
      "name": "python"
    }
  },
  "cells": [
    {
      "cell_type": "markdown",
      "metadata": {
        "id": "view-in-github",
        "colab_type": "text"
      },
      "source": [
        "<a href=\"https://colab.research.google.com/github/RBaragu/Redis/blob/main/Introduction_to_Redis_Project.ipynb\" target=\"_parent\"><img src=\"https://colab.research.google.com/assets/colab-badge.svg\" alt=\"Open In Colab\"/></a>"
      ]
    },
    {
      "cell_type": "markdown",
      "source": [
        "**Problem Statement**\n",
        "\n",
        "\n",
        "\n",
        "Your task for this project will be to write a Python script that imports data from a dummy\n",
        "CSV file into a remote Redis database.\n",
        "The dummy CSV file can contain any data that you want but the same data must be\n",
        "imported into the remote Redis database. Once you do that, you'll then be required to\n",
        "write Python code that retrieves, updates, and deletes the same data from the Redis\n",
        "database. Do note that while retrieving the data from Redis, you will be required to store\n",
        "it in a Pandas data frame.\n"
      ],
      "metadata": {
        "id": "GLg6pnnrq52X"
      }
    },
    {
      "cell_type": "markdown",
      "source": [
        "**Data**\n",
        "\n",
        "The dummy csv contains the products in a store such as appliances,Computer Peripherals,book cases etc.\n",
        "\n",
        "The store continually expanded and was to add telephone as part of their stock which is to be later updated in the database and its  stored as telephone update"
      ],
      "metadata": {
        "id": "8sSOMiZeuNrM"
      }
    },
    {
      "cell_type": "code",
      "source": [
        "#Installing redis library that lets you talk to a Redis server directly through Python calls\n",
        "!pip install redis"
      ],
      "metadata": {
        "colab": {
          "base_uri": "https://localhost:8080/"
        },
        "id": "pA5Vfh3HrFle",
        "outputId": "ec42a20e-339a-47bf-e2ed-8a5fea9be29d"
      },
      "execution_count": 1,
      "outputs": [
        {
          "output_type": "stream",
          "name": "stdout",
          "text": [
            "Collecting redis\n",
            "  Downloading redis-4.1.4-py3-none-any.whl (175 kB)\n",
            "\u001b[?25l\r\u001b[K     |█▉                              | 10 kB 18.6 MB/s eta 0:00:01\r\u001b[K     |███▊                            | 20 kB 11.4 MB/s eta 0:00:01\r\u001b[K     |█████▋                          | 30 kB 9.3 MB/s eta 0:00:01\r\u001b[K     |███████▌                        | 40 kB 8.3 MB/s eta 0:00:01\r\u001b[K     |█████████▎                      | 51 kB 4.4 MB/s eta 0:00:01\r\u001b[K     |███████████▏                    | 61 kB 5.1 MB/s eta 0:00:01\r\u001b[K     |█████████████                   | 71 kB 5.8 MB/s eta 0:00:01\r\u001b[K     |███████████████                 | 81 kB 4.3 MB/s eta 0:00:01\r\u001b[K     |████████████████▊               | 92 kB 4.7 MB/s eta 0:00:01\r\u001b[K     |██████████████████▋             | 102 kB 5.2 MB/s eta 0:00:01\r\u001b[K     |████████████████████▌           | 112 kB 5.2 MB/s eta 0:00:01\r\u001b[K     |██████████████████████▍         | 122 kB 5.2 MB/s eta 0:00:01\r\u001b[K     |████████████████████████▎       | 133 kB 5.2 MB/s eta 0:00:01\r\u001b[K     |██████████████████████████      | 143 kB 5.2 MB/s eta 0:00:01\r\u001b[K     |████████████████████████████    | 153 kB 5.2 MB/s eta 0:00:01\r\u001b[K     |█████████████████████████████▉  | 163 kB 5.2 MB/s eta 0:00:01\r\u001b[K     |███████████████████████████████▊| 174 kB 5.2 MB/s eta 0:00:01\r\u001b[K     |████████████████████████████████| 175 kB 5.2 MB/s \n",
            "\u001b[?25hRequirement already satisfied: importlib-metadata>=1.0 in /usr/local/lib/python3.7/dist-packages (from redis) (4.11.0)\n",
            "Requirement already satisfied: packaging>=20.4 in /usr/local/lib/python3.7/dist-packages (from redis) (21.3)\n",
            "Collecting deprecated>=1.2.3\n",
            "  Downloading Deprecated-1.2.13-py2.py3-none-any.whl (9.6 kB)\n",
            "Requirement already satisfied: wrapt<2,>=1.10 in /usr/local/lib/python3.7/dist-packages (from deprecated>=1.2.3->redis) (1.13.3)\n",
            "Requirement already satisfied: typing-extensions>=3.6.4 in /usr/local/lib/python3.7/dist-packages (from importlib-metadata>=1.0->redis) (3.10.0.2)\n",
            "Requirement already satisfied: zipp>=0.5 in /usr/local/lib/python3.7/dist-packages (from importlib-metadata>=1.0->redis) (3.7.0)\n",
            "Requirement already satisfied: pyparsing!=3.0.5,>=2.0.2 in /usr/local/lib/python3.7/dist-packages (from packaging>=20.4->redis) (3.0.7)\n",
            "Installing collected packages: deprecated, redis\n",
            "Successfully installed deprecated-1.2.13 redis-4.1.4\n"
          ]
        }
      ]
    },
    {
      "cell_type": "markdown",
      "source": [
        "1. **Importing data from a dummy csv to a remote redis database**"
      ],
      "metadata": {
        "id": "Ur_lfZNms6FX"
      }
    },
    {
      "cell_type": "code",
      "source": [
        "#Importing redis\n",
        "import redis\n",
        "r = redis.StrictRedis(\n",
        "    host='redis-11221.c1.asia-northeast1-1.gce.cloud.redislabs.com',\n",
        "    port=11221,\n",
        "    password='NcAnQzXMRLN9qbki93m9Co5IZgsKNGER',\n",
        "    db=0,\n",
        "    decode_responses=True\n",
        ")"
      ],
      "metadata": {
        "id": "LjQlo2Wp_tVW"
      },
      "execution_count": 3,
      "outputs": []
    },
    {
      "cell_type": "code",
      "source": [
        "#Upload csv file\n",
        "import csv\n",
        "file = open(\"/content/dummy.csv\",encoding='ISO 8859-1')\n",
        "\n",
        "header= next(file)\n"
      ],
      "metadata": {
        "id": "cYKLs7s3WSdx"
      },
      "execution_count": 4,
      "outputs": []
    },
    {
      "cell_type": "code",
      "source": [
        "#reading csv file\n",
        "csvreader = csv.reader(file)\n",
        "\n",
        "#Create an empty list called rows and iterate through the csvreader object and \n",
        "#append each row to the rows list.\n",
        "\n",
        "rows = []\n",
        "for row in csvreader:\n",
        "        rows.append(row)\n",
        "rows\n"
      ],
      "metadata": {
        "id": "6PANj2VaZ4cl"
      },
      "execution_count": null,
      "outputs": []
    },
    {
      "cell_type": "code",
      "source": [
        "# We will use json for the bulk upload since the `set` redis command \n",
        "#overwrites data inserted individually\n",
        "import json\n",
        "\n",
        "# Define a variable for the redis documents key\n",
        "key = \"dummy\"\n",
        "#Inserting our details to the database\n",
        "r.set(key, json.dumps(rows))\n"
      ],
      "metadata": {
        "colab": {
          "base_uri": "https://localhost:8080/"
        },
        "id": "AyPbT4rcaihT",
        "outputId": "c5917870-9ae4-4441-b7f5-fce115fe1f8f"
      },
      "execution_count": 7,
      "outputs": [
        {
          "output_type": "execute_result",
          "data": {
            "text/plain": [
              "True"
            ]
          },
          "metadata": {},
          "execution_count": 7
        }
      ]
    },
    {
      "cell_type": "markdown",
      "source": [
        "2. **Storing data in Pandas data frame from redis**"
      ],
      "metadata": {
        "id": "i_0atJRemOl3"
      }
    },
    {
      "cell_type": "code",
      "source": [
        "import pandas as pd\n",
        "#defining pandas data frame\n",
        "df =  pd.DataFrame()\n",
        "\n",
        "#downloading db and storing it in a variable db\n",
        "db = json.loads(r.get(key))\n",
        "#insert dataframe\n",
        "for item in db:\n",
        "  df = df.append(item, ignore_index=True)"
      ],
      "metadata": {
        "id": "OKYxpktdmZpi"
      },
      "execution_count": 8,
      "outputs": []
    },
    {
      "cell_type": "markdown",
      "source": [
        "3. **Updating Database**"
      ],
      "metadata": {
        "id": "RPELWTehogJs"
      }
    },
    {
      "cell_type": "code",
      "source": [
        "# Read in the data from the telephone csv file\n",
        "file = csv.reader(open(\"/content/telephone update.csv\",encoding='ISO 8859-1'))\n",
        "header = next(file)\n",
        "\n",
        "# Save the data in a new list\n",
        "rows_update= []\n",
        "\n",
        "for row in file:\n",
        "  f = dict(zip(header, row))\n",
        "  rows_update.append(f)\n",
        "\n",
        "\n",
        "# Combine the previous list with the new\n",
        "updated = rows_update + rows\n",
        "\n",
        "# Upload the new list to the database\n",
        "r.set(key, json.dumps(updated))"
      ],
      "metadata": {
        "colab": {
          "base_uri": "https://localhost:8080/"
        },
        "id": "XNMaxwuepeUm",
        "outputId": "631f5bec-325c-48e1-d5b2-497ebd66b716"
      },
      "execution_count": 9,
      "outputs": [
        {
          "output_type": "execute_result",
          "data": {
            "text/plain": [
              "True"
            ]
          },
          "metadata": {},
          "execution_count": 9
        }
      ]
    },
    {
      "cell_type": "markdown",
      "source": [
        " 4.  **Delete the same data from the Redis\n",
        "database**"
      ],
      "metadata": {
        "id": "jloGv8h1sffC"
      }
    },
    {
      "cell_type": "code",
      "source": [
        "# Delete the data\n",
        "r.flushdb()\n",
        "\n",
        "# Confirm deletion\n",
        "print(r.keys())"
      ],
      "metadata": {
        "colab": {
          "base_uri": "https://localhost:8080/"
        },
        "id": "v9k562gpsiWS",
        "outputId": "7dc7e862-4b98-4529-b50e-726e8638f021"
      },
      "execution_count": 10,
      "outputs": [
        {
          "output_type": "stream",
          "name": "stdout",
          "text": [
            "[]\n"
          ]
        }
      ]
    }
  ]
}